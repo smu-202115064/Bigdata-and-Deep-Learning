{
 "cells": [
  {
   "cell_type": "code",
   "execution_count": 1,
   "metadata": {},
   "outputs": [],
   "source": [
    "# [라] 라이브러리\n",
    "import numpy as np\n",
    "import pandas as pd\n",
    "\n",
    "import torch\n",
    "import torch.nn as nn\n",
    "from torch.utils.data import Dataset\n",
    "from torch.utils.data import DataLoader\n",
    "\n",
    "from sklearn.feature_extraction.text import CountVectorizer\n",
    "from sklearn.preprocessing import LabelEncoder\n",
    "from sklearn.model_selection import train_test_split"
   ]
  },
  {
   "cell_type": "code",
   "execution_count": 2,
   "metadata": {},
   "outputs": [],
   "source": [
    "# [모] 모델 정의\n",
    "class myRNN(nn.Module):\n",
    "    def __init__(self, input_size, hidden_size, output_size):\n",
    "        super(myRNN, self).__init__()\n",
    "        self.hidden_size = hidden_size\n",
    "        self.rnn = nn.RNN(input_size, hidden_size, batch_first=True)\n",
    "        self.fc = nn.Linear(hidden_size, output_size)\n",
    "\n",
    "    def forward(self, x):\n",
    "        h0 = torch.zeros(1, x.size(0), self.hidden_size)\n",
    "        out = self.rnn(x, h0)[0]\n",
    "        out = self.fc(out[:,-1,:])\n",
    "        return out"
   ]
  },
  {
   "cell_type": "code",
   "execution_count": 3,
   "metadata": {},
   "outputs": [
    {
     "name": "stdout",
     "output_type": "stream",
     "text": [
      "2471 2471\n"
     ]
    }
   ],
   "source": [
    "# [데] 데이터 로딩\n",
    "data = pd.read_csv(\"../data/IMDB_reviews_binary_suicide_squad.csv\", encoding=\"cp949\")\n",
    "\n",
    "reviews = data['review'].tolist()\n",
    "ratings = data['rating'].tolist()\n",
    "\n",
    "print(len(reviews), len(ratings))\n",
    "\n",
    "vectorizer = CountVectorizer()\n",
    "X = vectorizer.fit_transform(reviews).toarray()\n",
    "\n",
    "label_encoder = LabelEncoder()\n",
    "y = label_encoder.fit_transform(ratings)\n",
    "\n",
    "X_train, X_test, y_train, y_test = train_test_split(X, y)\n",
    "\n",
    "\n",
    "class ReviewsDataset(Dataset):\n",
    "    def __init__(self, X, y):\n",
    "        self.X = torch.tensor(X, dtype=torch.float32)\n",
    "        self.y = torch.tensor(y, dtype=torch.int64)\n",
    "\n",
    "    def __len__(self):\n",
    "        return len(self.X)\n",
    "\n",
    "    def __getitem__(self, idx):\n",
    "        return self.X[idx], self.y[idx]\n",
    "\n",
    "train_dataset = ReviewsDataset(X_train, y_train)\n",
    "train_loader = DataLoader(train_dataset, batch_size=2, shuffle=True)"
   ]
  },
  {
   "cell_type": "code",
   "execution_count": 4,
   "metadata": {},
   "outputs": [],
   "source": [
    "# [초] 초기화\n",
    "input_size = X.shape[1]\n",
    "hidden_size = 16\n",
    "output_size = 2\n",
    "learning_rate = 0.01\n",
    "num_epochs = 100\n",
    "\n",
    "model = myRNN(input_size, hidden_size, output_size)\n",
    "\n",
    "criterion = nn.CrossEntropyLoss()\n",
    "optimizer = torch.optim.Adam(model.parameters(), lr=learning_rate)"
   ]
  },
  {
   "cell_type": "code",
   "execution_count": 5,
   "metadata": {},
   "outputs": [
    {
     "name": "stdout",
     "output_type": "stream",
     "text": [
      "Epoch[2], Loss:0.15765772759914398\n",
      "Epoch[4], Loss:0.002539031207561493\n",
      "Epoch[6], Loss:0.0005474975914694369\n",
      "Epoch[8], Loss:0.00194193993229419\n"
     ]
    }
   ],
   "source": [
    "# [훈] 훈련\n",
    "for epoch in range(num_epochs):\n",
    "    for inputs, labels in train_loader:\n",
    "        optimizer.zero_grad()\n",
    "        outputs = model(inputs.unsqueeze(1))\n",
    "\n",
    "        loss = criterion(outputs, labels)\n",
    "        loss.backward()\n",
    "        optimizer.step()\n",
    "\n",
    "    if (epoch+1)%2 == 0:\n",
    "        print(f'Epoch[{epoch+1}], Loss:{loss.item()}')\n",
    "    if (loss.item() < 0.00001):\n",
    "        break"
   ]
  },
  {
   "cell_type": "code",
   "execution_count": 6,
   "metadata": {},
   "outputs": [
    {
     "name": "stdout",
     "output_type": "stream",
     "text": [
      "Test accuracy: 70.06\n"
     ]
    }
   ],
   "source": [
    "# [실] 실행\n",
    "# (test 에 대한 실행)\n",
    "test_dataset = ReviewsDataset(X_test, y_test)\n",
    "test_loader = DataLoader(test_dataset, batch_size=1, shuffle=False)\n",
    "\n",
    "model.eval()\n",
    "with torch.no_grad():\n",
    "    correct = 0\n",
    "    total = 0\n",
    "    for inputs, labels in test_loader:\n",
    "        outputs = model(inputs.unsqueeze(1))\n",
    "        predicted = torch.max(outputs.data, 1)[1]\n",
    "        total += 1\n",
    "        correct += (predicted == labels).sum().item()\n",
    "\n",
    "    accuracy = correct / total\n",
    "    print(f'Test accuracy: {accuracy*100:.2f}')"
   ]
  },
  {
   "cell_type": "code",
   "execution_count": 7,
   "metadata": {},
   "outputs": [
    {
     "name": "stdout",
     "output_type": "stream",
     "text": [
      "This product exceeded my expectations!: 0\n",
      "This is a masterpiece of my life: 1\n",
      "A bull-shit!: 0\n",
      "I curse all the guys who discourages this movie: 1\n",
      "I enjoyed a deep sleep during watching this movie.: 1\n",
      "A sleeping drug.: 0\n",
      "A perfect remedy for an insomnia.: 0\n",
      "I will recommend this movie to my worst friends.: 0\n"
     ]
    }
   ],
   "source": [
    "# [실] 실행\n",
    "# (random review 에 대한 실행)\n",
    "\n",
    "def predict_review(review):\n",
    "    review_vector = vectorizer.transform([review]).toarray()\n",
    "    inputs = torch.tensor(review_vector, dtype=torch.float32)\n",
    "    with torch.no_grad(): # 미분 안 하겠다는 뜻\n",
    "        output = model(inputs.unsqueeze(0))\n",
    "        predicted = torch.max(output.data, 1)[1]\n",
    "        predicted_rating = label_encoder.classes_[predicted.item()]\n",
    "        return predicted_rating\n",
    "\n",
    "my_reviews = []\n",
    "my_reviews.append(\"This product exceeded my expectations!\")\n",
    "my_reviews.append(\"This is a masterpiece of my life\")\n",
    "my_reviews.append(\"A bull-shit!\")\n",
    "my_reviews.append(\"I curse all the guys who discourages this movie\")\n",
    "my_reviews.append(\"I enjoyed a deep sleep during watching this movie.\")\n",
    "my_reviews.append(\"A sleeping drug.\")\n",
    "my_reviews.append(\"A perfect remedy for an insomnia.\")\n",
    "my_reviews.append(\"I will recommend this movie to my worst friends.\")\n",
    "\n",
    "for review in my_reviews:\n",
    "    predicted_rating = predict_review(review)\n",
    "    print(f'{review}: {predicted_rating}')"
   ]
  }
 ],
 "metadata": {
  "kernelspec": {
   "display_name": "venv",
   "language": "python",
   "name": "python3"
  },
  "language_info": {
   "codemirror_mode": {
    "name": "ipython",
    "version": 3
   },
   "file_extension": ".py",
   "mimetype": "text/x-python",
   "name": "python",
   "nbconvert_exporter": "python",
   "pygments_lexer": "ipython3",
   "version": "3.7.9"
  }
 },
 "nbformat": 4,
 "nbformat_minor": 2
}
