{
 "cells": [
  {
   "cell_type": "markdown",
   "metadata": {},
   "source": [
    "## (1) 인공 지능 모델의 목적\n",
    "\n",
    "4가지 특징으로 개와 늑대를 판정하는 인공 지능 모델을 구현하라\n",
    "\n",
    "입력: 4가지 특징 $(x_1, x_2, x_3, x_4)$\n",
    "출력: 개와 늑대의 확률 $(y_1, y_2)$\n",
    "\n",
    "예) 꼬리 $(x_1)$, 귀 $(x_2)$, 코 $(x_3)$, 다리 길이 $(x_4)$를 가지고 개일 확률 $(y_1)$과 늑대일 확률  $(y_2)$를 예측"
   ]
  },
  {
   "cell_type": "markdown",
   "metadata": {},
   "source": [
    "## (2) 인공 지능 모델 선정\n",
    "\n",
    "퍼셉트론\n",
    "\n",
    "* 입력 layer의 개수: $D_{in}$\n",
    "* 입력 layer: 4개의 입력: $(x_1, x_2, x_3, x_4)$\n",
    "\n",
    "* 출력 layer의 개수: $D_{out}$\n",
    "* 출력 layer: 2개의 출력: $(y_1, y_2)$\n",
    "\n",
    "* $W$: $(D_{in} \\times D_{out})$\n",
    "\n",
    "* 데이터의 개수 $(m)$: 64개"
   ]
  },
  {
   "cell_type": "markdown",
   "metadata": {},
   "source": [
    "## (3) 데이터 수집"
   ]
  },
  {
   "cell_type": "code",
   "execution_count": 1,
   "metadata": {},
   "outputs": [],
   "source": [
    "import numpy as np\n",
    "\n",
    "\n",
    "N, Din, Dout = 64, 4, 2\n",
    "\n",
    "x = np.random.randn(N, Din)\n",
    "y = np.random.randn(N, Dout)\n",
    "w = np.random.randn(Din, Dout)"
   ]
  },
  {
   "cell_type": "markdown",
   "metadata": {},
   "source": [
    "## (4) 손실 함수 결정\n",
    "\n",
    "$$\n",
    "J(W) = \\frac{1}{2} \\sum || \\hat y - y ||^2\n",
    "$$"
   ]
  },
  {
   "cell_type": "markdown",
   "metadata": {
    "slideshow": {
     "slide_type": "slide"
    }
   },
   "source": [
    "## (5) 훈련\n",
    "\n",
    "(5-1) 예측 값 계산\n",
    "$$\n",
    "\\hat{y} = W^T X\n",
    "$$\n",
    "\n",
    "(5-2) 오류 (loss) 계산\n",
    "$$\n",
    "J(W) = \\frac{1}{2} \\sum || \\hat y - y ||^2\n",
    "$$\n",
    "\n",
    "(5-3) 경사 하강법 (gradient descent) 적용\n",
    "$$\n",
    "\\begin{align}\n",
    "\\frac{\\partial J}{\\partial W} &= \\frac{\\partial J}{\\partial \\hat y} \\frac{\\partial \\hat y}{\\partial W} \\\\\n",
    "&= \\frac{\\partial}{\\partial \\hat y} ( \\frac{1}{2}\\sum||\\hat y - y||^2 ) \\frac{\\partial}{\\partial W}  (W^T X) \\\\\n",
    "&= (\\hat y - y)X\n",
    "\\end{align}\n",
    "$$\n",
    "\n",
    "(5-4) W 갱신\n",
    "$$\n",
    "W = W - \\alpha \\frac{\\partial J}{\\partial W}\n",
    "$$"
   ]
  },
  {
   "cell_type": "code",
   "execution_count": 2,
   "metadata": {},
   "outputs": [
    {
     "data": {
      "text/plain": [
       "[<matplotlib.lines.Line2D at 0x7f84f03b4f50>]"
      ]
     },
     "execution_count": 2,
     "metadata": {},
     "output_type": "execute_result"
    },
    {
     "data": {
      "image/png": "[encoded data removed]",
      "text/plain": [
       "<Figure size 640x480 with 1 Axes>"
      ]
     },
     "metadata": {},
     "output_type": "display_data"
    }
   ],
   "source": [
    "import numpy as np\n",
    "import matplotlib.pyplot as plt\n",
    "\n",
    "\n",
    "N, Din, Dout = 64, 4, 2\n",
    "\n",
    "x = np.random.randn(N, Din)\n",
    "y = np.random.randn(N, Dout)\n",
    "w = np.random.randn(Din, Dout)\n",
    "\n",
    "lr = 1e-6\n",
    "loss_arr = []\n",
    "\n",
    "for t in range(50000):\n",
    "    # 5-1. 예측 값을 계산\n",
    "    y_hat = np.matmul(x, w)\n",
    "\n",
    "    # 5-2. loss 계산\n",
    "    loss = (0.5 * (y_hat - y) ** 2).sum()\n",
    "    loss_arr.append(loss)\n",
    "\n",
    "    # 5-3. 경사하강법 적용\n",
    "    grad_y_hat = y_hat - y\n",
    "    grad_w = np.matmul(x.T, grad_y_hat)\n",
    "\n",
    "    # 5-4. w를 갱신\n",
    "    w -= lr * grad_w\n",
    "\n",
    "\n",
    "plt.plot(loss_arr)\n"
   ]
  }
 ],
 "metadata": {
  "kernelspec": {
   "display_name": "venv",
   "language": "python",
   "name": "python3"
  },
  "language_info": {
   "codemirror_mode": {
    "name": "ipython",
    "version": 3
   },
   "file_extension": ".py",
   "mimetype": "text/x-python",
   "name": "python",
   "nbconvert_exporter": "python",
   "pygments_lexer": "ipython3",
   "version": "3.7.9"
  }
 },
 "nbformat": 4,
 "nbformat_minor": 2
}
