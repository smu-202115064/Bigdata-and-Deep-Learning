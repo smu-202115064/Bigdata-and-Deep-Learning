{
 "cells": [
  {
   "cell_type": "markdown",
   "metadata": {},
   "source": [
    "# 1. import libray\n",
    "## (1) numpy --> 모델 구현 & 실행\n",
    "## (2) matplotlib --> 결과 보여주기\n",
    "## (3) torch --> data loading"
   ]
  },
  {
   "cell_type": "code",
   "execution_count": 1,
   "metadata": {},
   "outputs": [],
   "source": [
    "import numpy as np\n",
    "\n",
    "import matplotlib.pyplot as plt\n",
    "\n",
    "import torch\n",
    "import torchvision.datasets as dset\n",
    "import torchvision.transforms as transforms"
   ]
  },
  {
   "cell_type": "markdown",
   "metadata": {},
   "source": [
    "# 2. model 정의\n",
    "## model: 4개의 layer\n",
    "### (1) 입력층: x, 28*28\n",
    "### (2) 1st hidden: h1, 256\n",
    "### (3) 2nd hidden: h2, 2128\n",
    "### (4) 출력층: y_hat, 10 (0~9)까지의 숫자를 의미)\n",
    "\n",
    "## parameter: 3개의 parameter group\n",
    "### (1) W1, b1: x와 h1을 연결: 28*28 --> 256\n",
    "### (2) W2, b2: h1와 h2을 연결: 256 --> 128\n",
    "### (3) W3, b3: h2와 y_hat을 연결: 128 --> 1"
   ]
  },
  {
   "cell_type": "code",
   "execution_count": 2,
   "metadata": {},
   "outputs": [],
   "source": [
    "class myMLP:\n",
    "    def __init__(self, n_input, n_hidden1, n_hidden2, n_output) -> None:\n",
    "        self.W1 = np.zeros((n_hidden1, n_input), dtype=np.float32)\n",
    "        self.b1 = np.zeros ((n_hidden1, ), dtype=np. float32)\n",
    "\n",
    "        self.W2 = np.zeros((n_hidden2, n_hidden1), dtype=np.float32)\n",
    "        self.b2 = np.zeros ((n_hidden2, ), dtype=np.float32)\n",
    "\n",
    "        self.W3 = np.zeros((n_output, n_hidden2), dtype=np.float32)\n",
    "        self.b3 = np.zeros ((n_output, ), dtype=np.float32)\n",
    "\n",
    "    def __call__(self, x):\n",
    "        x = x.reshape(-1)\n",
    "\n",
    "        h1 = sigmoid(np.dot(self.W1, x) + self.b1)\n",
    "        h2 = np.dot(self.W2, h1) + self.b2\n",
    "        y_hat = np.dot(self.W3, h2) + self.b3\n",
    "\n",
    "        return softmax(y_hat)"
   ]
  },
  {
   "cell_type": "markdown",
   "metadata": {},
   "source": [
    "# 3. 함수 정의\n",
    "\n",
    "## (1) sigmoid\n",
    "## (2) softmax"
   ]
  },
  {
   "cell_type": "code",
   "execution_count": 3,
   "metadata": {},
   "outputs": [],
   "source": [
    "def sigmoid(x):\n",
    "    return 1 / (1 + np.exp(-x))\n",
    "\n",
    "def softmax(x):\n",
    "    ex = np.exp(x)\n",
    "    return ex / np.sum(ex)"
   ]
  },
  {
   "cell_type": "markdown",
   "metadata": {},
   "source": [
    "# 4. model 선언"
   ]
  },
  {
   "cell_type": "code",
   "execution_count": 4,
   "metadata": {},
   "outputs": [
    {
     "name": "stdout",
     "output_type": "stream",
     "text": [
      "(256, 784) (256,)\n",
      "(128, 256) (128,)\n",
      "(10, 128) (10,)\n"
     ]
    }
   ],
   "source": [
    "model = myMLP(28*28, 256, 128, 10)\n",
    "\n",
    "print(model.W1.shape, model.b1.shape)\n",
    "print(model.W2.shape, model.b2.shape)\n",
    "print(model.W3.shape, model.b3.shape)"
   ]
  },
  {
   "cell_type": "markdown",
   "metadata": {},
   "source": [
    "# 5. mnist data loading\n",
    "\n",
    "## data loading --> dset"
   ]
  },
  {
   "cell_type": "code",
   "execution_count": 5,
   "metadata": {},
   "outputs": [
    {
     "name": "stdout",
     "output_type": "stream",
     "text": [
      "10000\n"
     ]
    }
   ],
   "source": [
    "mnist_test = dset.MNIST(\"../data\", train=False, transform=transforms.ToTensor(), target_transform=None, download=True)\n",
    "print(len(mnist_test))"
   ]
  },
  {
   "cell_type": "markdown",
   "metadata": {},
   "source": [
    "# 6. data 확인\n",
    "\n",
    "## mnist dataset은 필기체 숫자 영상 (28x28)과 label의 쌍"
   ]
  },
  {
   "cell_type": "code",
   "execution_count": 6,
   "metadata": {},
   "outputs": [
    {
     "name": "stdout",
     "output_type": "stream",
     "text": [
      "이미지 크기: torch.Size([1, 28, 28])\n",
      "label: 7\n",
      "torch.FloatTensor\n"
     ]
    },
    {
     "data": {
      "image/png": "[encoded data removed]",
      "text/plain": [
       "<Figure size 640x480 with 1 Axes>"
      ]
     },
     "metadata": {},
     "output_type": "display_data"
    }
   ],
   "source": [
    "image, label = mnist_test[0]\n",
    "print(\"이미지 크기:\", image.size())\n",
    "print(\"label:\", label)\n",
    "\n",
    "print(image.type())\n",
    "img  = image.numpy()\n",
    "plt.title('label: %d' % label)\n",
    "plt.imshow(img[0], cmap=\"gray\")\n",
    "plt.show()"
   ]
  },
  {
   "cell_type": "markdown",
   "metadata": {},
   "source": [
    "# 7. 훈련 --> parameter loading\n",
    "\n",
    "## mlp_weight.npz"
   ]
  },
  {
   "cell_type": "code",
   "execution_count": 7,
   "metadata": {},
   "outputs": [],
   "source": [
    "weights = np.load('../data/mlp_weight.npz')\n",
    "model.W1 = weights['W1']\n",
    "model.b1 = weights['b1']\n",
    "model.W2 = weights['W2']\n",
    "model.b2 = weights['b2']\n",
    "model.W3 = weights['W3']\n",
    "model.b3 = weights['b3']"
   ]
  },
  {
   "cell_type": "markdown",
   "metadata": {},
   "source": [
    "# 8. 실행\n",
    "## 올바른 예측의 수를 측정 --> mysum\n",
    "### y_hat과 label이 같으면 올바른 예측\n",
    "## 전체 데이터의 수 --> cnt\n",
    "## 정확도: (mysum/cnt) * 100"
   ]
  },
  {
   "cell_type": "code",
   "execution_count": 8,
   "metadata": {},
   "outputs": [
    {
     "name": "stdout",
     "output_type": "stream",
     "text": [
      "91.91\n"
     ]
    }
   ],
   "source": [
    "mysum = 0\n",
    "cnt = 0\n",
    "m = len(mnist_test)\n",
    "\n",
    "for i in range(m):\n",
    "    # i번째 데이터를 추출\n",
    "    image, label = mnist_test[i]\n",
    "\n",
    "    # data --> y_hat을 계산\n",
    "    y_hat = model(image)\n",
    "\n",
    "    # cnt를 1 증가 (읽어들인 데이터 수 증가)\n",
    "    cnt += 1\n",
    "\n",
    "    # mysum은 예측이 맞으면 1 증가 --> y_hat의 index를 찾는 함수 --> argmax함수 --> > np.argmax(y_hat)== label?\n",
    "    mysum += (np.argmax(y_hat) == label)\n",
    "\n",
    "print(mysum/cnt * 100)"
   ]
  }
 ],
 "metadata": {
  "kernelspec": {
   "display_name": "venv",
   "language": "python",
   "name": "python3"
  },
  "language_info": {
   "codemirror_mode": {
    "name": "ipython",
    "version": 3
   },
   "file_extension": ".py",
   "mimetype": "text/x-python",
   "name": "python",
   "nbconvert_exporter": "python",
   "pygments_lexer": "ipython3",
   "version": "3.7.9"
  }
 },
 "nbformat": 4,
 "nbformat_minor": 2
}
